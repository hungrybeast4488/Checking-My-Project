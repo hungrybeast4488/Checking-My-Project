{
 "cells": [
  {
   "cell_type": "code",
   "execution_count": 1,
   "id": "908c3645",
   "metadata": {},
   "outputs": [],
   "source": [
    "# Importing All the Important Libraries \n",
    "import numpy as np\n",
    "import pandas as pd\n",
    "from time import sleep\n",
    "from selenium import webdriver\n",
    "from webdriver_manager.chrome import ChromeDriverManager\n",
    "from selenium.webdriver.common.by import By"
   ]
  },
  {
   "cell_type": "code",
   "execution_count": 6,
   "id": "af8eb3c3",
   "metadata": {},
   "outputs": [],
   "source": [
    "# Website which we will be using \n",
    "website=\"https://mail.google.com/\""
   ]
  },
  {
   "cell_type": "code",
   "execution_count": 7,
   "id": "e64d421f",
   "metadata": {},
   "outputs": [],
   "source": [
    "driver = webdriver.Chrome(options=webdriver.ChromeOptions() ) # opening the Browser\n",
    "sleep(1)\n",
    "driver.maximize_window() # Maximizing the windows\n",
    "\n",
    "driver.get(website)     # Loading the Website\n",
    "sleep(1)"
   ]
  },
  {
   "cell_type": "code",
   "execution_count": 5,
   "id": "ff1ddc8c",
   "metadata": {},
   "outputs": [
    {
     "name": "stdout",
     "output_type": "stream",
     "text": [
      "Magnolia Bakery\n"
     ]
    }
   ],
   "source": [
    "for element in elements:\n",
    "    print(element.text)"
   ]
  },
  {
   "cell_type": "code",
   "execution_count": null,
   "id": "d49c6fe8",
   "metadata": {},
   "outputs": [],
   "source": []
  }
 ],
 "metadata": {
  "kernelspec": {
   "display_name": "Python 3 (ipykernel)",
   "language": "python",
   "name": "python3"
  },
  "language_info": {
   "codemirror_mode": {
    "name": "ipython",
    "version": 3
   },
   "file_extension": ".py",
   "mimetype": "text/x-python",
   "name": "python",
   "nbconvert_exporter": "python",
   "pygments_lexer": "ipython3",
   "version": "3.9.13"
  }
 },
 "nbformat": 4,
 "nbformat_minor": 5
}
